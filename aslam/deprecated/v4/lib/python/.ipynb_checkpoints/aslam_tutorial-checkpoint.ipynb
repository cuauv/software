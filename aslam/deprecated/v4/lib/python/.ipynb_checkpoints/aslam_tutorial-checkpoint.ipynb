{
 "cells": [
  {
   "cell_type": "markdown",
   "metadata": {},
   "source": [
    "Adaptive SLAM Tutorial\n",
    "----------------------\n",
    "\n",
    "Last updated 06/02/2016. Compatible with ASLAM v0.7.0.\n",
    "\n",
    "Adaptive SLAM (the name no longer bears significant relation to the program) combines an algebraic DSL with standard-issue Bayesian statistics to enable generic state estimation capabilities. The probabalistic programming interface ASLAM provides allows for an (hopefully) intuitive mapping from abstract problem definitions to mathematically correct implementations.\n",
    "\n",
    "The following tutorial is a relatively comprehensive introduction featuring several short but demonstrative examples.\n",
    "Language reference, more in-depth examples, implementation details and more can be found on the wiki."
   ]
  },
  {
   "cell_type": "markdown",
   "metadata": {},
   "source": [
    "Preparation\n",
    "-----------\n",
    "\n",
    "To fully complete this tutorial, you will need the following:\n",
    "    1. Up-to-date CUAUV software stack.\n",
    "    2. Functional ASLAM installation (see instructions on the wiki).\n",
    "    3. Python 3.X (iPython recommended) with ujson and nanomsg"
   ]
  },
  {
   "cell_type": "markdown",
   "metadata": {},
   "source": [
    "Launching ASLAM\n",
    "---------------\n",
    "\n",
    "ASLAM uses a server-client system to maintain sychronized system state. In this tutorial, we'll be interacting with the ASLAM daemon through the Python client. To start the ASLAM daemon, from your CUAUV software directory, run:"
   ]
  },
  {
   "cell_type": "markdown",
   "metadata": {},
   "source": [
    "```bash\n",
    "~/cuauv/software $ aslam/build/bin/aslam daemon -v\n",
    "```"
   ]
  },
  {
   "cell_type": "markdown",
   "metadata": {},
   "source": [
    "Note that we've launched the daemon with '-v', instructing ASLAM to display debugging output, which you may find interesting.\n",
    "\n",
    "Now, open a new terminal (leaving the daemon running), launch iPython, and import the ASLAM client library. For ease of use in this tutorial, we'll import into the global namespace; you may prefer not to do this during regular usage."
   ]
  },
  {
   "cell_type": "code",
   "execution_count": 1,
   "metadata": {
    "collapsed": false
   },
   "outputs": [],
   "source": [
    "import sys; sys.path.append('../../..') # Necessary due to iPython notebook location; you don't need this line.\n",
    "\n",
    "from aslam import *"
   ]
  },
  {
   "cell_type": "markdown",
   "metadata": {},
   "source": [
    "ASLAM separates shared scopes as environments. All operations with ASLAM are associated with a named environment. All clients accessing the same environment will see a consistent view of state (statement execution order is FIFO).\n",
    "\n",
    "Let's use an environment called \"test\" to begin."
   ]
  },
  {
   "cell_type": "code",
   "execution_count": 2,
   "metadata": {
    "collapsed": false
   },
   "outputs": [],
   "source": [
    "env = Environment('test')"
   ]
  },
  {
   "cell_type": "markdown",
   "metadata": {},
   "source": [
    "Now, if we try to use this environment (ignore the specific function), we'll receive an error message:\n",
    "\n",
    "(note the try-except error handling required due to iPython notebook limitations)"
   ]
  },
  {
   "cell_type": "code",
   "execution_count": 3,
   "metadata": {
    "collapsed": false
   },
   "outputs": [
    {
     "name": "stdout",
     "output_type": "stream",
     "text": [
      "Remote raised error: Environment not found.\n"
     ]
    }
   ],
   "source": [
    "try:\n",
    "    env.con('x', Expr.LIFT(2))\n",
    "except Exception as e:\n",
    "    print(e)"
   ]
  },
  {
   "cell_type": "markdown",
   "metadata": {
    "collapsed": true
   },
   "source": [
    "As environments are shared, we must explictly create and destroy them. When creating an environment, we additionally need to specify a backend: the execution engine that ASLAM will use to evaluate expressions and perform calculations. Further discussion can be found on the wiki; for this tutorial, we'll use the interpreter backend, which should also be taken as the canonical standard of correctness."
   ]
  },
  {
   "cell_type": "code",
   "execution_count": 4,
   "metadata": {
    "collapsed": false
   },
   "outputs": [],
   "source": [
    "env.create(Backend.INTERPRETED)"
   ]
  },
  {
   "cell_type": "markdown",
   "metadata": {},
   "source": [
    "Let's make sure we successfully initialized an environment."
   ]
  },
  {
   "cell_type": "code",
   "execution_count": null,
   "metadata": {
    "collapsed": false
   },
   "outputs": [
    {
     "name": "stdout",
     "output_type": "stream",
     "text": [
      "Remote raised error: Variable \"x\" not found in environment.\n"
     ]
    }
   ],
   "source": [
    "try:\n",
    "    env.eval(Expr.VAR('x'), Eval.ARGMAX())\n",
    "except Exception as e:\n",
    "    print(e)"
   ]
  },
  {
   "cell_type": "markdown",
   "metadata": {},
   "source": [
    "Another error message! This one says something about a variable not being in scope, though, so it looks like we do indeed have an environment. \n",
    "Enough preparation; let's jump right into our first example."
   ]
  },
  {
   "cell_type": "markdown",
   "metadata": {},
   "source": [
    "Example I: Proof of Concept\n",
    "---------------------------\n",
    "\n",
    "Solving problems with ASLAM requires breaking down a problem into two components:\n",
    "    1. A specific state you would like to estimate.\n",
    "    2. Directly observable quantities dependent on some part (or parts) of that state.\n",
    "\n",
    "For an introduction to syntax, we'll use a simple system of equations, with three unknown variables: x, y, and z. We cannot observe these variables directly, but we can observe equations dependent on some subset of them (e.g. x + y, x + z, y + z). Breaking this down into (1) and (2) as above:\n",
    "    \n",
    "    1. State we would like to estimate: three variables (real numbers): x, y, and z.\n",
    "    2. Observable quantities dependent on said state: x + y, x + z, y + z.\n",
    "    \n",
    "For the purposes of demonstration, we'll make the actual solution trivial:\n",
    "    1. x = 1, y = 0, z = 1.\n",
    "    2. x + y = 1, x + z = 2, y + z = 1.\n",
    "\n",
    "Note, however, that we will never \"tell\" ASLAM the real values of x, y, and z - we will only tell it x + y, x + z, and y + z."
   ]
  },
  {
   "cell_type": "markdown",
   "metadata": {},
   "source": [
    "Variable Creation:\n",
    "\n",
    "\"State we would like to estimate\" translates simply into \"variables\" in ASLAM. Accordingly, let's declare a variable for x, y, and z."
   ]
  },
  {
   "cell_type": "code",
   "execution_count": null,
   "metadata": {
    "collapsed": false
   },
   "outputs": [],
   "source": [
    "env.var('state', Spec.REALGRID([(-5., 5.), (-5., 5.), (-5., 5.)], 100))"
   ]
  },
  {
   "cell_type": "markdown",
   "metadata": {},
   "source": [
    "Whoah, what was all that? We just:\n",
    "    1. Declared a variable called \"state\".\n",
    "    2. Initialized it as a three-dimensional grid of real numbers, ranging from -5 to 5, with 100 increments in each dimension.\n",
    "    \n",
    "Note that we declared one variable, not three. For reasons that should become clear as you proceed through this tutorial, ASLAM needs to know which variables are \"independent\" from each other, and simply uses the delineation of names - since vectors and objects (which you will see later) are supported, this doesn't impose any limitations, but simply means we will need to declare our state as a vector of three numbers.\n",
    "\n",
    "> Sidenote for the intrepid reader: note also that grid initialization just creates an initial point cloud for ASLAM to\n",
    "> work with; it does not constrain values of state to within the specified bounds)"
   ]
  },
  {
   "cell_type": "markdown",
   "metadata": {},
   "source": [
    "Now, just for fun, let's see what ASLAM thinks our state might be:"
   ]
  },
  {
   "cell_type": "code",
   "execution_count": null,
   "metadata": {
    "collapsed": false
   },
   "outputs": [],
   "source": [
    "env.eval(Expr.VAR('state'), Eval.ARGMAX())"
   ]
  },
  {
   "cell_type": "markdown",
   "metadata": {},
   "source": [
    "The first number is the estimated state, and the second is ASLAM's confidence in it (normalized, so 1 is perfect confidence). \n",
    "\n",
    "The confidence is miniscule - we haven't observed anything, so we can't know anything about what our state might be!\n",
    "\n",
    "> Sidenote:\n",
    "> Those familiar with linear algebra will know that with three unknowns and three equations, our system has a known\n",
    "> solution, so ASLAM should be able to find it. We'll start by entering observations one at a time, and take a few \n",
    "> estimates along the way.\n",
    "\n",
    "Let's observe the known result of our first equation:"
   ]
  },
  {
   "cell_type": "code",
   "execution_count": null,
   "metadata": {
    "collapsed": false
   },
   "outputs": [],
   "source": [
    "env.obs_con(Expr.VAR('state')[0] + Expr.VAR('state')[1], Expr.LAMBDA([('val', Type.REAL())], \\\n",
    "    Expr.APPLY(Expr.LIFT(BuiltIn.GAUSSIAN), [Expr.VAR('val'), Expr.LIFT(1.0), Expr.LIFT(0.1)])))"
   ]
  },
  {
   "cell_type": "markdown",
   "metadata": {},
   "source": [
    "Now let's estimate state again:"
   ]
  },
  {
   "cell_type": "code",
   "execution_count": null,
   "metadata": {
    "collapsed": false
   },
   "outputs": [],
   "source": [
    "env.eval(Expr.VAR('state'), Eval.ARGMAX())"
   ]
  },
  {
   "cell_type": "markdown",
   "metadata": {},
   "source": [
    "One equation isn't enough to uniquely determine the system - it did make us a bit more confident, though.\n",
    "\n",
    "> Note that the estimated values of x and y sum to 1 - why?\n",
    "\n",
    "Let's enter our final two equations and try another estimate:"
   ]
  },
  {
   "cell_type": "code",
   "execution_count": null,
   "metadata": {
    "collapsed": false
   },
   "outputs": [],
   "source": [
    "env.obs_con(Expr.VAR('state')[0] + Expr.VAR('state')[2], Expr.LAMBDA([('val', Type.REAL())], \\\n",
    "    Expr.APPLY(Expr.LIFT(BuiltIn.GAUSSIAN), [Expr.VAR('val'), Expr.LIFT(2.0), Expr.LIFT(0.1)])))"
   ]
  },
  {
   "cell_type": "code",
   "execution_count": null,
   "metadata": {
    "collapsed": false
   },
   "outputs": [],
   "source": [
    "env.obs_con(Expr.VAR('state')[1] + Expr.VAR('state')[2], Expr.LAMBDA([('val', Type.REAL())], \\\n",
    "    Expr.APPLY(Expr.LIFT(BuiltIn.GAUSSIAN), [Expr.VAR('val'), Expr.LIFT(1.0), Expr.LIFT(0.1)])))"
   ]
  },
  {
   "cell_type": "code",
   "execution_count": null,
   "metadata": {
    "collapsed": false
   },
   "outputs": [],
   "source": [
    "env.eval(Expr.VAR('state'), Eval.ARGMAX())"
   ]
  },
  {
   "cell_type": "markdown",
   "metadata": {},
   "source": [
    "Much better! Looks approximately correct, and we're more confident.\n",
    "\n",
    "> The intrepid reader will note that this looks like a point on the initial grid - quite correct. ASLAM supports various forms of resampling, which should be used in specific scenarios - see further documentation <HERE:TODO>.\n",
    "\n",
    "We also happen to know that our problem is [unimodal](https://en.wikipedia.org/wiki/Unimodality), so we can safely take a weighted average:"
   ]
  },
  {
   "cell_type": "code",
   "execution_count": null,
   "metadata": {
    "collapsed": false
   },
   "outputs": [],
   "source": [
    "env.eval(Expr.VAR('state'), Eval.WEIGHTEDMEAN())"
   ]
  },
  {
   "cell_type": "markdown",
   "metadata": {},
   "source": [
    "Exactly correct (sans floating-point error).\n",
    "\n",
    "This is merely a toy example, however. We could have instead simply (and more easily) solved the system of equations - let's try something more demonstrative of ASLAM's utility."
   ]
  },
  {
   "cell_type": "markdown",
   "metadata": {},
   "source": [
    "Example II: Sensor Error\n",
    "------------------------\n",
    "\n",
    "Let's pretend we have a submarine with three (simple) accelerometers, each capable of measuring X-acceleration. Unfortuntately, none of these IMUs are accurate: each has unknown (and different) quadratic error characteristics. Luckily, we have three -- so in theory, we should be able to combine their data to get a better estimate of our submarine's acceleration.\n",
    "\n",
    "First, we need to construct our pretend IMUs:"
   ]
  },
  {
   "cell_type": "code",
   "execution_count": null,
   "metadata": {
    "collapsed": false
   },
   "outputs": [],
   "source": [
    "import random\n",
    "\n",
    "rand = lambda: (random.random() - 0.5) * 2.\n",
    "\n",
    "class IMU:\n",
    "    __slots__ = ['error_function']\n",
    "    \n",
    "    def __init__(self, a, b, c):\n",
    "        print('Coefficients: a = {}, b = {}, c = {}'.format(a, b, c))\n",
    "        self.error_function = lambda x: (pow(x, a)) + (x * b) + c\n",
    "        \n",
    "    def measure(self, real_value):\n",
    "        # Consistent quadratic error, plus some random noise.\n",
    "        return self.error_function(real_value) + rand()\n",
    "\n",
    "\n",
    "imu_a = IMU(2 + rand(), rand(), rand())\n",
    "imu_b = IMU(2 + rand(), rand(), rand())\n",
    "imu_c = IMU(2 + rand(), rand(), rand())"
   ]
  },
  {
   "cell_type": "markdown",
   "metadata": {},
   "source": [
    "Now, let's measure some accelerations:"
   ]
  },
  {
   "cell_type": "code",
   "execution_count": null,
   "metadata": {
    "collapsed": false
   },
   "outputs": [],
   "source": [
    "real_accel = random.random()\n",
    "\n",
    "print('Real: {}'.format(real_accel))\n",
    "res_a, res_b, res_c = [imu.measure(real_accel) for imu in (imu_a, imu_b, imu_c)]\n",
    "print('IMU A: {}'.format(res_a))\n",
    "print('IMU B: {}'.format(res_b))\n",
    "print('IMU C: {}'.format(res_c))"
   ]
  },
  {
   "cell_type": "markdown",
   "metadata": {},
   "source": [
    "Pretty terrible. What if we average the results?"
   ]
  },
  {
   "cell_type": "code",
   "execution_count": null,
   "metadata": {
    "collapsed": false
   },
   "outputs": [],
   "source": [
    "mean = (res_a + res_b + res_c) / 3.\n",
    "\n",
    "print('Mean: {}'.format(mean))"
   ]
  },
  {
   "cell_type": "markdown",
   "metadata": {},
   "source": [
    "Better, but still not great. The constant errors are quadratic, so a simple mean won't work very well.\n",
    "\n",
    "We don't know the noise characteristics of our various accelerometers, but we can measure their results across a variety of ground truths (generated, say, by applying known forces). We'll use this fact to estimate their respective errors, and then combine the results for a far better estimate of our submarine's real acceleration.\n",
    "\n",
    "First, create an environment and variables to represent the state we'd like to estimate:"
   ]
  },
  {
   "cell_type": "code",
   "execution_count": null,
   "metadata": {
    "collapsed": false
   },
   "outputs": [],
   "source": [
    "env = Environment('imu-test')\n",
    "env.create(Backend.INTERPRETED)\n",
    "\n",
    "env.var('imu_a_coeff', Spec.REALGRID([(0., 3.), (-1., 1.), (-1., 1.)], 30))\n",
    "env.var('imu_b_coeff', Spec.REALGRID([(0., 3.), (-1., 1.), (-1., 1.)], 30))\n",
    "env.var('imu_c_coeff', Spec.REALGRID([(0., 3.), (-1., 1.), (-1., 1.)], 30))"
   ]
  },
  {
   "cell_type": "markdown",
   "metadata": {},
   "source": [
    "Let's observe some data:"
   ]
  },
  {
   "cell_type": "code",
   "execution_count": null,
   "metadata": {
    "collapsed": false
   },
   "outputs": [],
   "source": [
    "for i in range(100):\n",
    "    real_accel = abs(rand() * 3.)\n",
    "    mes_a, mes_b, mes_c = [imu.measure(real_accel) for imu in (imu_a, imu_b, imu_c)]\n",
    "    diff = lambda mes: Expr.LAMBDA([('val', Type.VEC([Type.REAL(), Type.REAL(), Type.REAL()]))], \\\n",
    "        Expr.APPLY(Expr.LIFT(BuiltIn.GAUSSIAN), \\\n",
    "        [(Expr.LIFT(real_accel) ** Expr.VAR('val')[0]) + (Expr.VAR('val')[1] * real_accel) + Expr.VAR('val')[2], \\\n",
    "        Expr.LIFT(mes), Expr.LIFT(10.0)]))\n",
    "    env.obs_con(Expr.VAR('imu_a_coeff'), diff(mes_a))\n",
    "    env.obs_con(Expr.VAR('imu_b_coeff'), diff(mes_b))\n",
    "    env.obs_con(Expr.VAR('imu_c_coeff'), diff(mes_c))"
   ]
  },
  {
   "cell_type": "markdown",
   "metadata": {},
   "source": [
    "Now invert the error functions:"
   ]
  },
  {
   "cell_type": "code",
   "execution_count": null,
   "metadata": {
    "collapsed": false
   },
   "outputs": [],
   "source": [
    "est_a = env.eval(Expr.VAR('imu_a_coeff'), Eval.ARGMAX())[0]\n",
    "est_b = env.eval(Expr.VAR('imu_b_coeff'), Eval.ARGMAX())[0]\n",
    "est_c = env.eval(Expr.VAR('imu_c_coeff'), Eval.ARGMAX())[0]\n",
    "\n",
    "print('IMU A: {}\\nIMU B: {}\\nIMU C: {}\\n'.format(est_a, est_b, est_c))"
   ]
  },
  {
   "cell_type": "markdown",
   "metadata": {},
   "source": [
    "And voila! We've derived the (approximate) quadratic errors of our three accelerometers, which we can then invert for far more accurate state estimates."
   ]
  },
  {
   "cell_type": "markdown",
   "metadata": {},
   "source": [
    "Next Steps\n",
    "----------\n",
    "\n",
    "- Advanced examples: function estimation, enumerable state, error handling, vision (soon to come)\n",
    "- Language Syntax Reference: See _aslam/src/External/Parser.hs_.\n",
    "- Suggestions / Issues: See [the epic on Jira](https://jira.cuauv.org/browse/SOF-22)!"
   ]
  }
 ],
 "metadata": {
  "kernelspec": {
   "display_name": "Python 3",
   "language": "python",
   "name": "python3"
  },
  "language_info": {
   "codemirror_mode": {
    "name": "ipython",
    "version": 3
   },
   "file_extension": ".py",
   "mimetype": "text/x-python",
   "name": "python",
   "nbconvert_exporter": "python",
   "pygments_lexer": "ipython3",
   "version": "3.5.1"
  }
 },
 "nbformat": 4,
 "nbformat_minor": 0
}
